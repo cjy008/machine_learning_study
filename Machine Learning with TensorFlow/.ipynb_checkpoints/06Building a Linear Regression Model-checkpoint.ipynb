{
 "cells": [
  {
   "cell_type": "code",
   "execution_count": 1,
   "metadata": {},
   "outputs": [],
   "source": [
    "import tensorflow as tf\n",
    "import matplotlib.pyplot as plt\n",
    "import numpy as np"
   ]
  },
  {
   "cell_type": "markdown",
   "metadata": {},
   "source": [
    "## Part 1: Gathering Data\n",
    "- Create some data for our model\n",
    "- Use numpy linspace to generate some points\n",
    "- Plot the points on a graph"
   ]
  },
  {
   "cell_type": "code",
   "execution_count": 2,
   "metadata": {},
   "outputs": [],
   "source": [
    "m = 2\n",
    "b = 0.5\n",
    "# Inputs\n",
    "x = np.linspace(0,4,100)\n",
    "# Outputs/Labels\n",
    "y = m * x + b + np.random.randn(*x.shape) + 0.25 # Create some noise in the data "
   ]
  },
  {
   "cell_type": "code",
   "execution_count": 3,
   "metadata": {},
   "outputs": [
    {
     "data": {
      "text/plain": [
       "<matplotlib.collections.PathCollection at 0x63ef71850>"
      ]
     },
     "execution_count": 3,
     "metadata": {},
     "output_type": "execute_result"
    },
    {
     "data": {
      "image/png": "[encoded data removed]",
      "text/plain": [
       "<Figure size 432x288 with 1 Axes>"
      ]
     },
     "metadata": {
      "needs_background": "light"
     },
     "output_type": "display_data"
    }
   ],
   "source": [
    "plt.scatter(x,y)"
   ]
  },
  {
   "cell_type": "markdown",
   "metadata": {},
   "source": [
    "## Part 2: Variable Nodes\n",
    "- Learn about Tensorflow variable nodes\n",
    "- Provide a way to store values that may change in a graph\n",
    "- Can assign initial values, data types, names, etc.\n",
    "- Will use tf.Variable to store weights and biases"
   ]
  },
  {
   "cell_type": "markdown",
   "metadata": {},
   "source": [
    "## Part 3: Adding the Operations\n",
    "- Build an operation node for model output\n",
    "- Node will contain results of y = mx + b\n",
    "- Put it together with the Variable nodes to create the main part of our model"
   ]
  },
  {
   "cell_type": "code",
   "execution_count": 12,
   "metadata": {},
   "outputs": [],
   "source": [
    "class Model:\n",
    "    def __init__(self):\n",
    "        # The initial weight does not matter because the model will get modified during training\n",
    "        self.weight = tf.Variable(10.0) # Do not default to 0.0 because it can cause dead neurons\n",
    "        # The initial bias does not matter because it will be modified during training\n",
    "        self.bias = tf.Variable(10.0)\n",
    "    \n",
    "    # Will be called as model(x) where model is the name of the Model object\n",
    "    def __call__(self, x):\n",
    "        return self.weight * x + self.bias"
   ]
  },
  {
   "cell_type": "markdown",
   "metadata": {},
   "source": [
    "## Part 4: Loss Function\n",
    "- Write a loss function to find the error and fix it\n",
    "- Used during training to modify the weights and biases\n",
    "- This will be using gradient descent"
   ]
  },
  {
   "cell_type": "code",
   "execution_count": 13,
   "metadata": {},
   "outputs": [],
   "source": [
    "def calculate_loss(y_actual, y_output):\n",
    "    # Square the difference to prevent negatives/positives\n",
    "    sq_difference = tf.square(y_actual - y_output)\n",
    "    return tf.reduce_mean(sq_difference)"
   ]
  },
  {
   "cell_type": "markdown",
   "metadata": {},
   "source": [
    "## Part 5: Training Function\n",
    "- Build the training loop\n",
    "- Train the model to adjust the weights and biases"
   ]
  },
  {
   "cell_type": "code",
   "execution_count": 14,
   "metadata": {},
   "outputs": [],
   "source": [
    "# learning_rate = rate at which the weights and bias will be adjusted per round\n",
    "def train(model, x, y, learning_rate):\n",
    "    with tf.GradientTape() as gt:\n",
    "        y_output = model(x)\n",
    "        # The value of the loss will determine the weight and bias adjust in order to reduce the loss\n",
    "        loss = calculate_loss(y, y_output)\n",
    "        \n",
    "    # This will adjust the weight and bias based on the loss\n",
    "    new_weight, new_bias = gt.gradient(loss, [model.weight, model.bias])\n",
    "    \n",
    "    # The learning rate prevents the weight and bias from being changed drastically \n",
    "    model.weight.assign_sub(new_weight * learning_rate)\n",
    "    model.bias.assign_sub(new_bias * learning_rate)"
   ]
  },
  {
   "cell_type": "markdown",
   "metadata": {},
   "source": [
    "## Part 6: Training Loop"
   ]
  },
  {
   "cell_type": "code",
   "execution_count": 15,
   "metadata": {},
   "outputs": [
    {
     "name": "stdout",
     "output_type": "stream",
     "text": [
      "Epoch: 0, loss: 727.0557861328125\n",
      "Epoch: 1, loss: 516.413818359375\n",
      "Epoch: 2, loss: 367.0577697753906\n",
      "Epoch: 3, loss: 261.1304931640625\n",
      "Epoch: 4, loss: 185.98159790039062\n",
      "Epoch: 5, loss: 132.6484832763672\n",
      "Epoch: 6, loss: 94.78093719482422\n",
      "Epoch: 7, loss: 67.87943267822266\n",
      "Epoch: 8, loss: 48.75544738769531\n",
      "Epoch: 9, loss: 35.149192810058594\n",
      "Epoch: 10, loss: 25.458955764770508\n",
      "Epoch: 11, loss: 18.549219131469727\n",
      "Epoch: 12, loss: 13.614850044250488\n",
      "Epoch: 13, loss: 10.084792137145996\n",
      "Epoch: 14, loss: 7.553912162780762\n",
      "Epoch: 15, loss: 5.734673023223877\n",
      "Epoch: 16, loss: 4.422906875610352\n",
      "Epoch: 17, loss: 3.4735682010650635\n",
      "Epoch: 18, loss: 2.7835333347320557\n",
      "Epoch: 19, loss: 2.279428005218506\n",
      "Epoch: 20, loss: 1.908989667892456\n",
      "Epoch: 21, loss: 1.634946584701538\n",
      "Epoch: 22, loss: 1.4306799173355103\n",
      "Epoch: 23, loss: 1.2771412134170532\n",
      "Epoch: 24, loss: 1.1606717109680176\n",
      "Epoch: 25, loss: 1.0714503526687622\n",
      "Epoch: 26, loss: 1.002393364906311\n",
      "Epoch: 27, loss: 0.9483720660209656\n",
      "Epoch: 28, loss: 0.9056571125984192\n",
      "Epoch: 29, loss: 0.8715226650238037\n",
      "Epoch: 30, loss: 0.8439645171165466\n",
      "Epoch: 31, loss: 0.8214988112449646\n",
      "Epoch: 32, loss: 0.8030188679695129\n",
      "Epoch: 33, loss: 0.7876920104026794\n",
      "Epoch: 34, loss: 0.7748860120773315\n",
      "Epoch: 35, loss: 0.7641162276268005\n",
      "Epoch: 36, loss: 0.7550070285797119\n",
      "Epoch: 37, loss: 0.7472645044326782\n",
      "Epoch: 38, loss: 0.7406558394432068\n",
      "Epoch: 39, loss: 0.7349948287010193\n",
      "Epoch: 40, loss: 0.7301308512687683\n",
      "Epoch: 41, loss: 0.72594153881073\n",
      "Epoch: 42, loss: 0.7223254442214966\n",
      "Epoch: 43, loss: 0.7191989421844482\n",
      "Epoch: 44, loss: 0.7164918780326843\n",
      "Epoch: 45, loss: 0.7141450643539429\n",
      "Epoch: 46, loss: 0.7121086716651917\n",
      "Epoch: 47, loss: 0.7103402614593506\n",
      "Epoch: 48, loss: 0.7088035345077515\n",
      "Epoch: 49, loss: 0.7074674963951111\n",
      "Epoch: 50, loss: 0.7063053846359253\n",
      "Epoch: 51, loss: 0.7052941918373108\n",
      "Epoch: 52, loss: 0.7044141292572021\n",
      "Epoch: 53, loss: 0.7036479115486145\n",
      "Epoch: 54, loss: 0.7029808163642883\n",
      "Epoch: 55, loss: 0.7023998498916626\n",
      "Epoch: 56, loss: 0.7018937468528748\n",
      "Epoch: 57, loss: 0.7014529705047607\n",
      "Epoch: 58, loss: 0.7010689377784729\n",
      "Epoch: 59, loss: 0.7007343769073486\n",
      "Epoch: 60, loss: 0.7004429697990417\n",
      "Epoch: 61, loss: 0.7001888751983643\n",
      "Epoch: 62, loss: 0.699967622756958\n",
      "Epoch: 63, loss: 0.6997749209403992\n",
      "Epoch: 64, loss: 0.6996068358421326\n",
      "Epoch: 65, loss: 0.6994604468345642\n",
      "Epoch: 66, loss: 0.6993329524993896\n",
      "Epoch: 67, loss: 0.6992215514183044\n",
      "Epoch: 68, loss: 0.6991247534751892\n",
      "Epoch: 69, loss: 0.6990403532981873\n",
      "Epoch: 70, loss: 0.6989668011665344\n",
      "Epoch: 71, loss: 0.6989026665687561\n",
      "Epoch: 72, loss: 0.6988468170166016\n",
      "Epoch: 73, loss: 0.6987980604171753\n",
      "Epoch: 74, loss: 0.6987557411193848\n",
      "Epoch: 75, loss: 0.698718786239624\n",
      "Epoch: 76, loss: 0.6986865401268005\n",
      "Epoch: 77, loss: 0.6986584663391113\n",
      "Epoch: 78, loss: 0.6986339688301086\n",
      "Epoch: 79, loss: 0.6986126899719238\n",
      "Epoch: 80, loss: 0.6985940337181091\n",
      "Epoch: 81, loss: 0.698577880859375\n",
      "Epoch: 82, loss: 0.6985636949539185\n",
      "Epoch: 83, loss: 0.6985514163970947\n",
      "Epoch: 84, loss: 0.6985406279563904\n",
      "Epoch: 85, loss: 0.6985313296318054\n",
      "Epoch: 86, loss: 0.6985232830047607\n",
      "Epoch: 87, loss: 0.6985161304473877\n",
      "Epoch: 88, loss: 0.6985099911689758\n",
      "Epoch: 89, loss: 0.6985045671463013\n",
      "Epoch: 90, loss: 0.698499858379364\n",
      "Epoch: 91, loss: 0.6984958648681641\n",
      "Epoch: 92, loss: 0.6984921097755432\n",
      "Epoch: 93, loss: 0.6984890699386597\n",
      "Epoch: 94, loss: 0.6984863877296448\n",
      "Epoch: 95, loss: 0.6984841227531433\n",
      "Epoch: 96, loss: 0.6984819173812866\n",
      "Epoch: 97, loss: 0.6984802484512329\n",
      "Epoch: 98, loss: 0.698478639125824\n",
      "Epoch: 99, loss: 0.6984771490097046\n"
     ]
    }
   ],
   "source": [
    "# Create the model\n",
    "model = Model()\n",
    "# Number of rounds to run the training through\n",
    "epochs = 100\n",
    "learning_rate = 0.15\n",
    "\n",
    "for epoch in range(epochs):\n",
    "    y_output = model(x)\n",
    "    loss = calculate_loss(y, y_output)\n",
    "    \n",
    "    print(f\"Epoch: {epoch}, loss: {loss.numpy()}\")\n",
    "    \n",
    "    train(model, x, y, learning_rate)"
   ]
  },
  {
   "cell_type": "markdown",
   "metadata": {},
   "source": [
    "## Part 7: Testing and Evaluating\n",
    "- Evaluate performance of the model\n",
    "- Test with some new data"
   ]
  },
  {
   "cell_type": "code",
   "execution_count": 16,
   "metadata": {},
   "outputs": [
    {
     "name": "stdout",
     "output_type": "stream",
     "text": [
      "2.0369914 0.62606436\n"
     ]
    }
   ],
   "source": [
    "# Find out what the model's final weight and bias was\n",
    "print(model.weight.numpy(), model.bias.numpy())"
   ]
  },
  {
   "cell_type": "code",
   "execution_count": 20,
   "metadata": {},
   "outputs": [
    {
     "data": {
      "text/plain": [
       "<matplotlib.collections.PathCollection at 0x63f43cb10>"
      ]
     },
     "execution_count": 20,
     "metadata": {},
     "output_type": "execute_result"
    },
    {
     "data": {
      "image/png": "[encoded data removed]",
      "text/plain": [
       "<Figure size 432x288 with 1 Axes>"
      ]
     },
     "metadata": {
      "needs_background": "light"
     },
     "output_type": "display_data"
    }
   ],
   "source": [
    "# Create data based on the model's weight and bias\n",
    "x_model = np.linspace(0,4,50)\n",
    "y_model = model.weight.numpy() * x_model + model.bias.numpy()\n",
    "\n",
    "plt.scatter(x_model, y_model)\n",
    "plt.scatter(x,y)"
   ]
  },
  {
   "cell_type": "markdown",
   "metadata": {},
   "source": [
    "## Refactor to Improve\n",
    "- Decrease the learning rate and increasing the epochs\n",
    "- Restructure the model \n",
    "- Pass in more data points (300 instead of 100)"
   ]
  },
  {
   "cell_type": "code",
   "execution_count": null,
   "metadata": {},
   "outputs": [],
   "source": []
  }
 ],
 "metadata": {
  "kernelspec": {
   "display_name": "Python 3",
   "language": "python",
   "name": "python3"
  },
  "language_info": {
   "codemirror_mode": {
    "name": "ipython",
    "version": 3
   },
   "file_extension": ".py",
   "mimetype": "text/x-python",
   "name": "python",
   "nbconvert_exporter": "python",
   "pygments_lexer": "ipython3",
   "version": "3.7.4"
  }
 },
 "nbformat": 4,
 "nbformat_minor": 2
}
