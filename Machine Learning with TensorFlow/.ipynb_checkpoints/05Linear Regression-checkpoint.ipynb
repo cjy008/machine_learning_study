{
 "cells": [
  {
   "cell_type": "markdown",
   "metadata": {},
   "source": [
    "## What is Linear Regression\n",
    "- essentially fitting a line through data to minimize average distance between all points and the line\n",
    "- Usually corresponds with a line of best fit\n",
    "- Can be used for predictive models"
   ]
  },
  {
   "cell_type": "markdown",
   "metadata": {},
   "source": [
    "## How does Linear Regression Work?\n",
    "- Start by plotting data on a graph, typically use a scatter plot\n",
    "- Draw a line through the datat that runs roughly through the middle of the points to give an even number above and below the line\n",
    "- Calculate the **error** by totalling the absolute value of the distances between each points y value and the line at that point\n",
    "- Adjust the line by changing the y intercept and the slope to minimize the error"
   ]
  },
  {
   "cell_type": "markdown",
   "metadata": {},
   "source": [
    "## What is Gradient Descent?\n",
    "- Optimization algorithm to find the minimum of a function\n",
    "- You can use this with Linear Regression to find the minimum error to draw the line of best fit\n",
    "- When we use a Gradient Descent optimizer function, it will change the slope and y intercept so as to get the optimal line through the data\n",
    "- Generally, we see the error decreases sharply at first then begin to slow down so slope decreases over time"
   ]
  }
 ],
 "metadata": {
  "kernelspec": {
   "display_name": "Python 3",
   "language": "python",
   "name": "python3"
  },
  "language_info": {
   "codemirror_mode": {
    "name": "ipython",
    "version": 3
   },
   "file_extension": ".py",
   "mimetype": "text/x-python",
   "name": "python",
   "nbconvert_exporter": "python",
   "pygments_lexer": "ipython3",
   "version": "3.7.4"
  }
 },
 "nbformat": 4,
 "nbformat_minor": 2
}
