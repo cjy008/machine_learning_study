{
 "cells": [
  {
   "cell_type": "markdown",
   "metadata": {},
   "source": [
    "## Steps to Building a Model\n",
    "- Figure out whether we can use machine learning to solve the problem and if so, what model to use\n",
    "- Gather and format the data\n",
    "- Build the neural network itself\n",
    "- Train the model\n",
    "- Test and evaluate\n",
    "- Refactor or gather more data if needed"
   ]
  },
  {
   "cell_type": "markdown",
   "metadata": {},
   "source": [
    "## Which model to use?\n",
    "- Some models structures are best suited to solve certain problems more efficiently\n",
    "- Need to know what the optimal model structure to use\n",
    "    - Example: Image recognition can be done with CNN or RNN\n",
    "- Sometimes its trial and error, try a few different kinds of neural networks to see which one performs the best\n",
    "- Draw inspiration from similar problems that have been solved"
   ]
  },
  {
   "cell_type": "markdown",
   "metadata": {},
   "source": [
    "## Gathering Data\n",
    "- Generally, more data makes the model better as it is exposed to lots of examples\n",
    "- Varied data is necessary as well so the model can see different kinds of input output combos\n",
    "- Many datasets are online, some free and most are pre-formatted"
   ]
  },
  {
   "cell_type": "markdown",
   "metadata": {},
   "source": [
    "## Formatting Data\n",
    "- In most models, we want data to be the same format\n",
    "- We need to assign labels (expected output) to each data point \n",
    "    - Supervised requires an expected output per input\n",
    "- Divide data into training and testing data sets, usually about an 80-20 split (80% training, 20% testing data)\n",
    "    - More training than testing\n",
    "    - Make sure there is no overlap between training and testing data sets or else we may get a false sense of confidence in our model"
   ]
  },
  {
   "cell_type": "markdown",
   "metadata": {},
   "source": [
    "## Building the Model\n",
    "- Build the computational graph\n",
    "- Need to add an input layer: generally one node for each point of input\n",
    "- Number and structure of the **hidden** or intermediate layers depends on the type of model you are building\n",
    "- Need to add the output layer: generally one node for each point of output"
   ]
  },
  {
   "cell_type": "markdown",
   "metadata": {},
   "source": [
    "## Training the Model\n",
    "- Usually only for supervised/reinforced learning\n",
    "- This is where the model with adjust node weights in order to get closer to the expected output\n",
    "- With supervised learning, we feed inputs into the model along with expected outputs\n",
    "- Model produces an output for each input given its current weights and biases\n",
    "- The difference between the expected and actual outputs is called the **error** or **loss** function\n",
    "- Goal: Adjust the weights to minimize the error/loss\n",
    "- Smaller the loss or error, the closer (as a sum) the actual output is to the expected output\n",
    "    - With perceptrons, this is done with backpropagation using a gradient descent optimizer\n",
    "- Usually run through the data multiple times (epoch(s)). Often ran through batches rather than all the data at once\n",
    "- Training is done when you feel the model is confident"
   ]
  },
  {
   "cell_type": "markdown",
   "metadata": {},
   "source": [
    "## Testing the Model\n",
    "- Feed in the testing data but no longer training the modle, we do not adjust any weight\n",
    "- Goal: See how well the model performs in the real world with some test data\n",
    "- We can still output a loss and a percent accuracy althought we only run through the data once`"
   ]
  },
  {
   "cell_type": "markdown",
   "metadata": {},
   "source": [
    "## Refactoring the Model\n",
    "- If the loss is sufficiently low and the accuracy sufficiently high, we are good to go and can use the complete model\n",
    "- If not, we need to modify the structure or get more data\n",
    "    - More datapoints\n",
    "    - Better layers\n",
    "- If it doesn't work, maybe try a different model type (depends on how poorly the model is performing)"
   ]
  }
 ],
 "metadata": {
  "kernelspec": {
   "display_name": "Python 3",
   "language": "python",
   "name": "python3"
  }
 },
 "nbformat": 4,
 "nbformat_minor": 2
}
