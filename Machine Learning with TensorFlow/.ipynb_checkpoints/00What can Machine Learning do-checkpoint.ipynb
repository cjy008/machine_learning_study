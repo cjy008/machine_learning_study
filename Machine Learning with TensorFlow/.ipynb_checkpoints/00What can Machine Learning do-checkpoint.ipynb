{
 "cells": [
  {
   "cell_type": "markdown",
   "metadata": {},
   "source": [
    "## Goals: \n",
    "- What is machine learning?\n",
    "- What can we do with machine learning?\n",
    "- What types of machine learning are there?\n",
    "- How do we build a machine learning model?\n",
    "- What is Tensorflow?\n",
    "- How can we use Tensorflow to build, train, and test a machine learning program?"
   ]
  },
  {
   "cell_type": "markdown",
   "metadata": {},
   "source": [
    "## Prerequisites:\n",
    "- Basic Python and numpy knowledge\n",
    "- Python development environmnet (using Anaconda & Jupyter notebook)\n",
    "- No prior machine learning knowledge necessary"
   ]
  },
  {
   "cell_type": "markdown",
   "metadata": {},
   "source": [
    "## Topics Covered:\n",
    "- Intro to machine learning\n",
    "- How machine learning works\n",
    "- Intro to Tensorflow\n",
    "- Installing Anaconda & Tensorflow \n",
    "- Exploring Tensorflow components\n",
    "- Using Tensorflow to build, train and test a machine learning model"
   ]
  },
  {
   "cell_type": "markdown",
   "metadata": {},
   "source": [
    "## Why use Machine Learning?\n",
    "- ML is the way of the future\n",
    "- Many companies are integrating machine learning into their software or have already done so\n",
    "- ML allows you to customize software to a user, better predict future values and more easily categorize data\n",
    "- Often more efficient than trying to create an algorithm to solve the problem directly"
   ]
  }
 ],
 "metadata": {
  "kernelspec": {
   "display_name": "Python 3",
   "language": "python",
   "name": "python3"
  },
  "language_info": {
   "codemirror_mode": {
    "name": "ipython",
    "version": 3
   },
   "file_extension": ".py",
   "mimetype": "text/x-python",
   "name": "python",
   "nbconvert_exporter": "python",
   "pygments_lexer": "ipython3",
   "version": "3.7.4"
  }
 },
 "nbformat": 4,
 "nbformat_minor": 2
}
