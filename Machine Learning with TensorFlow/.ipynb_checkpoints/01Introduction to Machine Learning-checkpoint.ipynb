{
 "cells": [
  {
   "cell_type": "markdown",
   "metadata": {},
   "source": [
    "## What is machine learning?\n",
    "**Technical**: ML is the study of statistics and algorithms aimed at performing a task without being explicitly programmed for<br>\n",
    "**Practical**: ML is finding patterns in data that solve a problem without us necessarily writing the algorithm to find the patterns and solve the problem\n",
    "\n",
    "- Involves performing a task better over time\n",
    "- Performance in most models is linked to training\n",
    "- Training: feed data into model to increase performance over time without modifying the algorithm itself\n",
    "- If a machine produces better results after training with the same algorithm, it is said to have learned.\n",
    "\n",
    "Takeaway: ML models perform better over time without any changes made to the algorithm itself."
   ]
  },
  {
   "cell_type": "markdown",
   "metadata": {},
   "source": [
    "## What can we do with machine learning?\n",
    "- ML at its heart is pattern recognition\n",
    "- It can go through data much faster than a human and recognize patterns that humans might not be able to see\n",
    "- It is ideal for solving problems in the domain of:\n",
    "    - Prediction\n",
    "    - Classification\n",
    "    - Customization\n",
    "    - Translation\n",
    "    - Game AI (or any AI for that matter)"
   ]
  },
  {
   "cell_type": "markdown",
   "metadata": {},
   "source": [
    "### Prediction\n",
    "**Prediction**: Guessing what some value will be in the future\n",
    "- Future predictions are mostly made under the assumption that history will repeat itself\n",
    "- If event x happens that caused y, then if x happens again, we should see y again as a result\n",
    "- Prediction models will examine previous data to see what kind of output it produces given various inputs\n",
    "- Then if it sees similar inputs in the future, it theoretically should produce similar outputs\n",
    "\n",
    "**Real World Example**: stock market prediction (very difficult to model)\n",
    "- In theory, if we see the same price movement patterns that we have seen in the past, we should be able to predict whether the price will go up or down."
   ]
  },
  {
   "cell_type": "markdown",
   "metadata": {},
   "source": [
    "### Classification\n",
    "**Classification**: grouping items into categories based on a predetermined set of features\n",
    "- Easy when features are obvious but difficult if the features are hard to describe or very subtle (i.e. world events affecting the stock market)\n",
    "- With ML, the algorithm finds it on its own sometimes even when we don't describe features which is easier than writing a elaborate case-inclusive algorithm manually\n",
    "\n",
    "**Real World Example**: image recognition\n",
    "- It's very difficult to explain how we know an image of a tree is a tree; we recognize it based on previous things we've seen that are either trees or not trees (bark, branches, etc)\n",
    "- ML recgonizes images based on patterns in pixel value that has been seen before\n",
    "- The algorithm divides the image into percentages of its possibilites and picks the highest probability"
   ]
  },
  {
   "cell_type": "markdown",
   "metadata": {},
   "source": [
    "### Customization\n",
    "**Customization**: provide an experience that is tailed to you\n",
    "- Customization generally takes into account your previous habits and makes decisions based on that\n",
    "- Works similar to prediction in that it tries to predict what you will do or like based on what you've done in the past\n",
    "- Models can only really customize one or two things at a atime so there will be many algorithms working to provide a fully tailed software experience\n",
    "\n",
    "\n",
    "**Real World Example**: Targeted Ads\n",
    "- We see ads for items that we've previously looked at\n",
    "- Algorithms take your previous choices and views into account to provide similar items they think you would be interested in"
   ]
  },
  {
   "cell_type": "markdown",
   "metadata": {},
   "source": [
    "### Translation\n",
    "**Translation**: inputting some language and outputting the equivalent in another language\n",
    "- Difficult when the translation is not direct; for example, when sentence structure is different or genders or conjugations are needed\n",
    "- Algorithms break down the items to translate into universal medium language and can be then trained on how to restructure the items into the other language\n",
    "- Typically encoder-decoder structure\n",
    "\n",
    "\n",
    "**Real World Example**: language translation\n",
    "- There are many languages and some structure their sentence completely differently\n",
    "- Characters pronounciation, sentence structure\n",
    "- Google's translation AI created its own medium language to more easily encode into other languages\n",
    "    - Happened organically from the model determining that it was beneficial to its translation"
   ]
  },
  {
   "cell_type": "markdown",
   "metadata": {},
   "source": [
    "### Game AI\n",
    "**Game AI**: AN AI that makes decision based on some process of deduction and reasoning\n",
    "- ML does not necessarily utilize AI\n",
    "- Smart AIs do not act randomly; they respond to what you are doing and what they have seen in previous experiences\n",
    "- Nowadays, the newer AIs will change their response to what you're doing\n",
    "- Games AIs are trained to try to win so they will put into play the steps they have taken in the past that have brought them closest to winning\n",
    "- Computers can consider many scenarios and perform computations much faster than humans so they are able to map out all future scenarios and pick the best one\n",
    "\n",
    "\n",
    "**Real World Example**: Chess AI\n",
    "- Chess AI learns how to play based on millions of previous games played and on choosing strategies that produce the highest chance of winning.\n",
    "- If it has 5 possible moves, it'll consider each move and its future consequences per move based on previous game data"
   ]
  },
  {
   "cell_type": "markdown",
   "metadata": {},
   "source": [
    "## What types of machine learning\n",
    "- Types: \n",
    "    - Supervised: Does have a clear right/wrong answer\n",
    "    - Unsupervised: Does not have a clear right/wrong answer\n",
    "    - Reinforcement: Achieve a specific goal\n",
    "- All are trying to find patterns in data but each have a different goal\n",
    "- Each employs different training methods\n",
    "- Each has a different set of algorithms"
   ]
  },
  {
   "cell_type": "markdown",
   "metadata": {},
   "source": [
    "### Supervised Learning\n",
    "- Feed inputs & expected outputs (labels) into model\n",
    "- Clear end goal such as a number to predict or a category to put an item into\n",
    "- During training, the model tries to match its output to the labels by modifying internal values\n",
    "- Essentially tell the model what to expect given a specific input, and the model tries to match it\n",
    "- Most commonly used\n",
    "\n",
    "**Usage**: \n",
    "- Classification and prediction problems (regression)\n",
    "- Examples: linear regression, decision tree, k-nearest-neighbors"
   ]
  },
  {
   "cell_type": "markdown",
   "metadata": {},
   "source": [
    "### Unsupervised Learning\n",
    "- Feed raw data into model\n",
    "- No clear expected output\n",
    "- No training involved; the model doesn't know what to expect\n",
    "- Great at grouping and clustering data to find patterns\n",
    "- Not as commonly used\n",
    "- Like learning without a teacher\n",
    "\n",
    "**Usage**:\n",
    "- Clustering and data compression algorithms\n",
    "- Examples: Apriori and K-means"
   ]
  },
  {
   "cell_type": "markdown",
   "metadata": {},
   "source": [
    "### Reinforcement Learning\n",
    "- Feed inputs and often, a rewarding mechanism\n",
    "- Goal: generally to maximize some reward or score\n",
    "- During training, the model learns through trial and error how to achieve the highest reward score\n",
    "- We don't always show the algorithm how to achieve the highest score\n",
    "- The algorithm figures out how to do so based on its environment and by keeping track of how its state changes as its performs various actions\n",
    "- Fairly common used\n",
    "\n",
    "**Usage**:\n",
    "- Often used in game AIs and any behaviour-reward type situation\n",
    "- Example: Markov Decision Process"
   ]
  }
 ],
 "metadata": {
  "kernelspec": {
   "display_name": "Python 3",
   "language": "python",
   "name": "python3"
  },
  "language_info": {
   "codemirror_mode": {
    "name": "ipython",
    "version": 3
   },
   "file_extension": ".py",
   "mimetype": "text/x-python",
   "name": "python",
   "nbconvert_exporter": "python",
   "pygments_lexer": "ipython3",
   "version": "3.7.4"
  }
 },
 "nbformat": 4,
 "nbformat_minor": 2
}
