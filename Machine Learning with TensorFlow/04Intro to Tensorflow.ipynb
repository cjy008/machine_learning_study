{
 "cells": [
  {
   "cell_type": "markdown",
   "metadata": {},
   "source": [
    "## What is Tensorflow?\n",
    "- A library for numerical computation, best known for its ML applications\n",
    "- Initially released in 2015; 2.0 has a huge overhaul in 2019\n",
    "- Basic Tensorflow intergrates closely with Keras, a higher level machine learning library\n",
    "- Contains all the components necessary to build, train and test a variety of machine learning models"
   ]
  },
  {
   "cell_type": "markdown",
   "metadata": {},
   "source": [
    "## Why use Tensorflow?\n",
    "- It makes building machine learning models so much easier than building them from scratch\n",
    "- It has a ton of pre-implemented algorithms, model structures, node types, activation functions, optimizers, etc\n",
    "- Most used ML library\n",
    "- Serves as a default underlying architecture for higher level libraries like Keras"
   ]
  },
  {
   "cell_type": "markdown",
   "metadata": {},
   "source": [
    "## How do we use Tensorflow?\n",
    "- Install the Tensorflow library (It's FREE and open source)\n",
    "- Import Tensorflow into any Python file and access any of its built in functions\n",
    "    - import tensorflow as tf\n",
    "- Tensorflow comes with built-in datatypes such as tf.float32 and tf.string (best to use Tensorflow datatypes)\n",
    "- Evaluated Tensorflow units are called **Tensors** (vectors or list of values)\n",
    "- Every node produces a Tensor when evaluated"
   ]
  }
 ],
 "metadata": {
  "kernelspec": {
   "display_name": "Python 3",
   "language": "python",
   "name": "python3"
  },
  "language_info": {
   "codemirror_mode": {
    "name": "ipython",
    "version": 3
   },
   "file_extension": ".py",
   "mimetype": "text/x-python",
   "name": "python",
   "nbconvert_exporter": "python",
   "pygments_lexer": "ipython3",
   "version": "3.7.4"
  }
 },
 "nbformat": 4,
 "nbformat_minor": 2
}
