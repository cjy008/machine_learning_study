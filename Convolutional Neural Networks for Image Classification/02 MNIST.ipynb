{
 "cells": [
  {
   "cell_type": "markdown",
   "metadata": {},
   "source": [
    "## What is MNIST?\n",
    "- MNIST = Modern National Institute of Standards of Technology\n",
    "- The dataset contains 70,000 images of handwritten digits\n",
    "- There is an even more modern EMNIST dataset which contains 280,000 images released in 2017"
   ]
  },
  {
   "cell_type": "markdown",
   "metadata": {},
   "source": [
    "## How are Images Formatted?\n",
    "- 60,000 training images, 10,000 testing images\n",
    "- Each image is 28 x 28 pixels (784 total)\n",
    "- Each image is in black and white\n",
    "- Each image is labelled based on which digit it represents\n",
    "- Each image is in one-hot encoding form \n",
    "- Instead of a string label, we have an arrays of 0s and 1s with the 1 in the position that represents the digit and 0s in the rest"
   ]
  },
  {
   "cell_type": "markdown",
   "metadata": {},
   "source": [
    "## Why bother with MNIST?\n",
    "- Very highly esteemed data sets\n",
    "- Starting point for many image recognition models\n",
    "- Great way to learn how to build an image recognition/classification model with a trusted and pre-formatted data set"
   ]
  }
 ],
 "metadata": {
  "kernelspec": {
   "display_name": "Python 3",
   "language": "python",
   "name": "python3"
  },
  "language_info": {
   "codemirror_mode": {
    "name": "ipython",
    "version": 3
   },
   "file_extension": ".py",
   "mimetype": "text/x-python",
   "name": "python",
   "nbconvert_exporter": "python",
   "pygments_lexer": "ipython3",
   "version": "3.7.4"
  }
 },
 "nbformat": 4,
 "nbformat_minor": 2
}
