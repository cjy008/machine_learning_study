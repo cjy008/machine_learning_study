{
 "cells": [
  {
   "cell_type": "markdown",
   "metadata": {},
   "source": [
    "## Image recognition with MNIST\n",
    "- Goals:\n",
    "    - How does image recognition work?\n",
    "    - What is MNIST?\n",
    "    - How do I build a ML model to recognize and classify images with Tensorflow?\n",
    "    - How do I build a ML model to recognize and classify images with Keras?\n",
    "    \n",
    "- Prerequisites:\n",
    "    - Some Python and numpy knowledge\n",
    "    - Basic understanding of how ML works\n",
    "    - Some experience with Tensorflow\n",
    "    \n",
    "- Topics Covered:\n",
    "    - Intro to image recognition\n",
    "    - Intro to MNIST\n",
    "    - Build, train and test an MNIST image recognition model\n",
    "    - Build, train and test an MNIST image recognition model with Keras\n",
    "    \n",
    "- Why Image Recognition?\n",
    "    - Many practical applications for recognizing and classifying images\n",
    "    - Once we understand how to build the model, it is easy to expand into other areas\n",
    "    - MNIST is an easy to use dataset\n"
   ]
  }
 ],
 "metadata": {
  "kernelspec": {
   "display_name": "Python 3",
   "language": "python",
   "name": "python3"
  },
  "language_info": {
   "codemirror_mode": {
    "name": "ipython",
    "version": 3
   },
   "file_extension": ".py",
   "mimetype": "text/x-python",
   "name": "python",
   "nbconvert_exporter": "python",
   "pygments_lexer": "ipython3",
   "version": "3.7.4"
  }
 },
 "nbformat": 4,
 "nbformat_minor": 2
}
