{
 "cells": [
  {
   "cell_type": "markdown",
   "metadata": {},
   "source": [
    "## What is Keras?\n",
    "- **Keras** is a higher level machine learning library aimed at rapid construction and deployment of neural networks\n",
    "- Provides a more abstract interface\n",
    "- Takes a more modular approach by grouping functionality into objects\n",
    "- Can run with Tensorflow, MCT, Theano, or PlaidML backend but we default and most popular is Tensorflow"
   ]
  },
  {
   "cell_type": "markdown",
   "metadata": {},
   "source": [
    "## Why use Keras?\n",
    "- Keras is easier to use than raw Tensorflow\n",
    "- The modular approach makes it easy to build a model layer by layer\n",
    "- Built in functions to train, test and evaluate models\n",
    "- Becoming more commonplace than raw Tensorflow\n",
    "- Tensorflow 2.0 is closely integrated with Keras and calls upon Keras functionality in many models and datasets"
   ]
  },
  {
   "cell_type": "markdown",
   "metadata": {},
   "source": [
    "## How do we obtain Keras?\n",
    "- Keras already comes with Tensorflow\n",
    "- Can be found under the module tf.keras\n",
    "- Many parts of the Tensorflow ecosystem are now tf.keras.[something]"
   ]
  }
 ],
 "metadata": {
  "kernelspec": {
   "display_name": "Python 3",
   "language": "python",
   "name": "python3"
  },
  "language_info": {
   "codemirror_mode": {
    "name": "ipython",
    "version": 3
   },
   "file_extension": ".py",
   "mimetype": "text/x-python",
   "name": "python",
   "nbconvert_exporter": "python",
   "pygments_lexer": "ipython3",
   "version": "3.7.4"
  }
 },
 "nbformat": 4,
 "nbformat_minor": 2
}
